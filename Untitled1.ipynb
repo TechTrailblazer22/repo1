{
  "nbformat": 4,
  "nbformat_minor": 0,
  "metadata": {
    "colab": {
      "provenance": [],
      "authorship_tag": "ABX9TyOM6cu96IzcR50zky0gmbRi",
      "include_colab_link": true
    },
    "kernelspec": {
      "name": "python3",
      "display_name": "Python 3"
    },
    "language_info": {
      "name": "python"
    }
  },
  "cells": [
    {
      "cell_type": "markdown",
      "metadata": {
        "id": "view-in-github",
        "colab_type": "text"
      },
      "source": [
        "<a href=\"https://colab.research.google.com/github/TechTrailblazer22/repo1/blob/main/Untitled1.ipynb\" target=\"_parent\"><img src=\"https://colab.research.google.com/assets/colab-badge.svg\" alt=\"Open In Colab\"/></a>"
      ]
    },
    {
      "cell_type": "markdown",
      "source": [
        "# linear regression model"
      ],
      "metadata": {
        "id": "2AXf3QfGjbX9"
      }
    },
    {
      "cell_type": "code",
      "execution_count": 136,
      "metadata": {
        "id": "cmYpfY2xcOH3"
      },
      "outputs": [],
      "source": [
        "import numpy as np\n",
        "import torch"
      ]
    },
    {
      "cell_type": "code",
      "source": [
        "# input(temp, rainfall , humidity)\n",
        "inputs= np.array([[2,3,4],[5,9,3],[6,8,1],[35,32,78],[46,56,45]],dtype='float32')"
      ],
      "metadata": {
        "id": "F_-ztbfWe1sC"
      },
      "execution_count": 137,
      "outputs": []
    },
    {
      "cell_type": "code",
      "source": [
        "# targets(apples, oranges)\n",
        "targets=np.array([[2,3],[35,57],[76,23],[24,43],[12,41]],dtype='float32')"
      ],
      "metadata": {
        "id": "Nk1sqaakfwPE"
      },
      "execution_count": 138,
      "outputs": []
    },
    {
      "cell_type": "code",
      "source": [
        "# convert inputs and targets to tensors\n",
        "targets=torch.from_numpy(targets)\n",
        "inputs=torch.from_numpy(inputs)\n",
        "print(inputs)\n",
        "print(targets)\n"
      ],
      "metadata": {
        "colab": {
          "base_uri": "https://localhost:8080/"
        },
        "id": "IX_7Pq2KgTGd",
        "outputId": "0c4db9ef-50e5-4de5-d704-81a473c070d6"
      },
      "execution_count": 139,
      "outputs": [
        {
          "output_type": "stream",
          "name": "stdout",
          "text": [
            "tensor([[ 2.,  3.,  4.],\n",
            "        [ 5.,  9.,  3.],\n",
            "        [ 6.,  8.,  1.],\n",
            "        [35., 32., 78.],\n",
            "        [46., 56., 45.]])\n",
            "tensor([[ 2.,  3.],\n",
            "        [35., 57.],\n",
            "        [76., 23.],\n",
            "        [24., 43.],\n",
            "        [12., 41.]])\n"
          ]
        }
      ]
    },
    {
      "cell_type": "code",
      "source": [
        "# weights and biases\n",
        "w=torch.randn(2,3,requires_grad=True)\n",
        "b=torch.randn(2,requires_grad=True)\n",
        "print(w)\n",
        "print(b)"
      ],
      "metadata": {
        "colab": {
          "base_uri": "https://localhost:8080/"
        },
        "id": "xRcSu9t0hFTv",
        "outputId": "167abccc-35bb-433a-d045-ce509f1b9a99"
      },
      "execution_count": 140,
      "outputs": [
        {
          "output_type": "stream",
          "name": "stdout",
          "text": [
            "tensor([[-1.1892, -1.2301,  1.0052],\n",
            "        [ 0.3684, -0.1746, -0.2273]], requires_grad=True)\n",
            "tensor([-2.0045,  0.3289], requires_grad=True)\n"
          ]
        }
      ]
    },
    {
      "cell_type": "code",
      "source": [
        "inputs"
      ],
      "metadata": {
        "colab": {
          "base_uri": "https://localhost:8080/"
        },
        "id": "3RNAXeZNiRWJ",
        "outputId": "23cbd8fb-124c-4570-9429-b10cfb1fa21b"
      },
      "execution_count": 141,
      "outputs": [
        {
          "output_type": "execute_result",
          "data": {
            "text/plain": [
              "tensor([[ 2.,  3.,  4.],\n",
              "        [ 5.,  9.,  3.],\n",
              "        [ 6.,  8.,  1.],\n",
              "        [35., 32., 78.],\n",
              "        [46., 56., 45.]])"
            ]
          },
          "metadata": {},
          "execution_count": 141
        }
      ]
    },
    {
      "cell_type": "code",
      "source": [
        "# @ symbol represents multiplication of matrices and w.t() represents transpose matrice of w\n",
        "inputs @ w.t() + b"
      ],
      "metadata": {
        "colab": {
          "base_uri": "https://localhost:8080/"
        },
        "id": "8h8MnnKHnYFF",
        "outputId": "32254862-3758-4e2f-a9c1-00c75f72cee7"
      },
      "execution_count": 142,
      "outputs": [
        {
          "output_type": "execute_result",
          "data": {
            "text/plain": [
              "tensor([[ -4.0525,  -0.3674],\n",
              "        [-16.0059,  -0.0829],\n",
              "        [-17.9754,   0.9147],\n",
              "        [ -4.5852, -10.0950],\n",
              "        [-80.3603,  -2.7339]], grad_fn=<AddBackward0>)"
            ]
          },
          "metadata": {},
          "execution_count": 142
        }
      ]
    },
    {
      "cell_type": "code",
      "source": [
        "def model(x):\n",
        " return x @ w.t() + b"
      ],
      "metadata": {
        "id": "-2Y2c9mfnul5"
      },
      "execution_count": 143,
      "outputs": []
    },
    {
      "cell_type": "code",
      "source": [
        "# generate predictions\n",
        "preds= model(inputs)\n",
        "print(preds)"
      ],
      "metadata": {
        "colab": {
          "base_uri": "https://localhost:8080/"
        },
        "id": "Tn9mwbnOpw6p",
        "outputId": "7a7dc0d7-e557-4f45-877f-0d2b0f6dd55c"
      },
      "execution_count": 144,
      "outputs": [
        {
          "output_type": "stream",
          "name": "stdout",
          "text": [
            "tensor([[ -4.0525,  -0.3674],\n",
            "        [-16.0059,  -0.0829],\n",
            "        [-17.9754,   0.9147],\n",
            "        [ -4.5852, -10.0950],\n",
            "        [-80.3603,  -2.7339]], grad_fn=<AddBackward0>)\n"
          ]
        }
      ]
    },
    {
      "cell_type": "code",
      "source": [
        "# compare with targets\n",
        "print(targets)"
      ],
      "metadata": {
        "colab": {
          "base_uri": "https://localhost:8080/"
        },
        "id": "B5JyNQPqqDQ_",
        "outputId": "23afb8af-3ac6-4504-eb6b-c98c3aceaed4"
      },
      "execution_count": 145,
      "outputs": [
        {
          "output_type": "stream",
          "name": "stdout",
          "text": [
            "tensor([[ 2.,  3.],\n",
            "        [35., 57.],\n",
            "        [76., 23.],\n",
            "        [24., 43.],\n",
            "        [12., 41.]])\n"
          ]
        }
      ]
    },
    {
      "cell_type": "code",
      "source": [
        "# mse loss\n",
        "def mse(t1,t2):\n",
        "   diff=t1-t2\n",
        "   return torch.sum(diff*diff)/diff.numel()"
      ],
      "metadata": {
        "id": "Acx8KfV8qQCu"
      },
      "execution_count": 146,
      "outputs": []
    },
    {
      "cell_type": "code",
      "source": [
        "loss=mse(preds,targets)\n",
        "print(loss)"
      ],
      "metadata": {
        "colab": {
          "base_uri": "https://localhost:8080/"
        },
        "id": "5fiLL6Dppe65",
        "outputId": "1b09101c-7fb8-42e1-d622-cef7fe7fe841"
      },
      "execution_count": 147,
      "outputs": [
        {
          "output_type": "stream",
          "name": "stdout",
          "text": [
            "tensor(2930.6433, grad_fn=<DivBackward0>)\n"
          ]
        }
      ]
    },
    {
      "cell_type": "code",
      "source": [
        "# compute the gradient\n",
        "loss.backward()"
      ],
      "metadata": {
        "id": "18e_4WIFs2mv"
      },
      "execution_count": 148,
      "outputs": []
    },
    {
      "cell_type": "code",
      "source": [
        "print(w)\n",
        "print(w.grad)"
      ],
      "metadata": {
        "colab": {
          "base_uri": "https://localhost:8080/"
        },
        "id": "0DlCq4kap3Ze",
        "outputId": "f7895344-78c3-4ff2-b087-ad21466df9b7"
      },
      "execution_count": 149,
      "outputs": [
        {
          "output_type": "stream",
          "name": "stdout",
          "text": [
            "tensor([[-1.1892, -1.2301,  1.0052],\n",
            "        [ 0.3684, -0.1746, -0.2273]], requires_grad=True)\n",
            "tensor([[-1216.0090, -1463.1841, -1331.4133],\n",
            "        [ -858.9487,  -969.7334, -1263.2474]])\n"
          ]
        }
      ]
    },
    {
      "cell_type": "code",
      "source": [
        "print(b)\n",
        "print(b.grad)"
      ],
      "metadata": {
        "colab": {
          "base_uri": "https://localhost:8080/"
        },
        "id": "BSe4RNJFq06c",
        "outputId": "ea08d370-62ae-4d69-da5f-9ac98740c97e"
      },
      "execution_count": 150,
      "outputs": [
        {
          "output_type": "stream",
          "name": "stdout",
          "text": [
            "tensor([-2.0045,  0.3289], requires_grad=True)\n",
            "tensor([-54.3959, -35.8729])\n"
          ]
        }
      ]
    },
    {
      "cell_type": "code",
      "source": [
        "with torch.no_grad():\n",
        "  w-=w.grad*1e-5\n",
        "  b-=b.grad*1e-3\n",
        ""
      ],
      "metadata": {
        "id": "2HTTrsi8sK9y"
      },
      "execution_count": 151,
      "outputs": []
    },
    {
      "cell_type": "code",
      "source": [
        "preds=model(inputs)\n",
        "loss=mse(preds,targets)\n",
        "print(loss)\n"
      ],
      "metadata": {
        "colab": {
          "base_uri": "https://localhost:8080/"
        },
        "id": "IjYJkpVVwaEL",
        "outputId": "dcd1293c-21a0-4b53-b0e2-feaafa0e56f2"
      },
      "execution_count": 159,
      "outputs": [
        {
          "output_type": "stream",
          "name": "stdout",
          "text": [
            "tensor(2841.0747, grad_fn=<DivBackward0>)\n"
          ]
        }
      ]
    },
    {
      "cell_type": "code",
      "source": [
        "w,b"
      ],
      "metadata": {
        "colab": {
          "base_uri": "https://localhost:8080/"
        },
        "id": "iJS0fY-xxKPa",
        "outputId": "e6ee3330-9217-4ca3-968d-265f81cb38d5"
      },
      "execution_count": 155,
      "outputs": [
        {
          "output_type": "execute_result",
          "data": {
            "text/plain": [
              "(tensor([[-1.1770, -1.2155,  1.0185],\n",
              "         [ 0.3770, -0.1649, -0.2147]], requires_grad=True),\n",
              " tensor([-1.9501,  0.3648], requires_grad=True))"
            ]
          },
          "metadata": {},
          "execution_count": 155
        }
      ]
    },
    {
      "cell_type": "code",
      "source": [
        "# to prevent the accumilation of gradient from previous iteration\n",
        "w.grad.zero_()\n",
        "b.grad.zero_()\n",
        "print(w.grad)\n",
        "print(b.grad)"
      ],
      "metadata": {
        "colab": {
          "base_uri": "https://localhost:8080/"
        },
        "id": "u-FrXm50zzDU",
        "outputId": "b79e05c6-5d85-48b8-9fce-bd213b47913f"
      },
      "execution_count": 156,
      "outputs": [
        {
          "output_type": "stream",
          "name": "stdout",
          "text": [
            "tensor([[0., 0., 0.],\n",
            "        [0., 0., 0.]])\n",
            "tensor([0., 0.])\n"
          ]
        }
      ]
    },
    {
      "cell_type": "code",
      "source": [
        "preds=model(inputs)\n",
        "print(preds)"
      ],
      "metadata": {
        "colab": {
          "base_uri": "https://localhost:8080/"
        },
        "id": "8QksCJEx1k-9",
        "outputId": "936d2d51-32cb-4e3f-a93f-24b8438c2639"
      },
      "execution_count": 157,
      "outputs": [
        {
          "output_type": "stream",
          "name": "stdout",
          "text": [
            "tensor([[ -3.8766,  -0.2347],\n",
            "        [-15.7191,   0.1211],\n",
            "        [-17.7176,   1.0923],\n",
            "        [ -2.5985,  -8.4628],\n",
            "        [-78.3280,  -1.1914]], grad_fn=<AddBackward0>)\n"
          ]
        }
      ]
    },
    {
      "cell_type": "code",
      "source": [
        "loss=mse(preds,targets)\n",
        "print(loss)"
      ],
      "metadata": {
        "colab": {
          "base_uri": "https://localhost:8080/"
        },
        "id": "842TgbJa29oI",
        "outputId": "075a8cc0-51ce-4fd4-df47-4f1d0da701fd"
      },
      "execution_count": 160,
      "outputs": [
        {
          "output_type": "stream",
          "name": "stdout",
          "text": [
            "tensor(2841.0747, grad_fn=<DivBackward0>)\n"
          ]
        }
      ]
    },
    {
      "cell_type": "code",
      "source": [
        "loss.backward()"
      ],
      "metadata": {
        "id": "3s_Ausit3Z7g"
      },
      "execution_count": 161,
      "outputs": []
    },
    {
      "cell_type": "code",
      "source": [
        "print(w)\n",
        "print(w.grad)"
      ],
      "metadata": {
        "colab": {
          "base_uri": "https://localhost:8080/"
        },
        "id": "0P_DPM8-3h7c",
        "outputId": "3959fcd1-a5e1-46c6-f630-458559381307"
      },
      "execution_count": 162,
      "outputs": [
        {
          "output_type": "stream",
          "name": "stdout",
          "text": [
            "tensor([[-1.1770, -1.2155,  1.0185],\n",
            "        [ 0.3770, -0.1649, -0.2147]], requires_grad=True)\n",
            "tensor([[-1182.7386, -1426.6732, -1281.7657],\n",
            "        [ -832.8625,  -941.2806, -1223.6394]])\n"
          ]
        }
      ]
    },
    {
      "cell_type": "code",
      "source": [
        "with torch.no_grad():\n",
        " w-=w.grad*1e-5\n",
        " b-=b.grad*1e-3\n",
        "print(w)\n",
        "print(b)"
      ],
      "metadata": {
        "colab": {
          "base_uri": "https://localhost:8080/"
        },
        "id": "njkf0e-d3qQ1",
        "outputId": "2285c9e2-1b13-47d0-9a7a-1a847c7954e2"
      },
      "execution_count": 165,
      "outputs": [
        {
          "output_type": "stream",
          "name": "stdout",
          "text": [
            "tensor([[-1.1652, -1.2012,  1.0313],\n",
            "        [ 0.3853, -0.1555, -0.2024]], requires_grad=True)\n",
            "tensor([-1.8966,  0.3999], requires_grad=True)\n"
          ]
        }
      ]
    },
    {
      "cell_type": "code",
      "source": [
        "preds=model(inputs)\n",
        "loss=mse(preds,targets)\n",
        "print(loss)"
      ],
      "metadata": {
        "colab": {
          "base_uri": "https://localhost:8080/"
        },
        "id": "UwVvRR5O36Sf",
        "outputId": "aa62b2f6-a4b8-4fdd-bf56-82fabea35c89"
      },
      "execution_count": 166,
      "outputs": [
        {
          "output_type": "stream",
          "name": "stdout",
          "text": [
            "tensor(2756.7009, grad_fn=<DivBackward0>)\n"
          ]
        }
      ]
    },
    {
      "cell_type": "code",
      "source": [
        "m=500000\n",
        "for i in range(m):\n",
        "    preds=model(inputs)\n",
        "    loss=mse(preds,targets)\n",
        "    loss.backward()\n",
        "    with torch.no_grad():\n",
        "     w-=w.grad*1e-5\n",
        "     b-=b.grad*1e-3\n",
        "    w.grad.zero_()\n",
        "    b.grad.zero_()\n",
        "print(loss)"
      ],
      "metadata": {
        "colab": {
          "base_uri": "https://localhost:8080/"
        },
        "id": "ltdbcSIJ4lrn",
        "outputId": "97353185-8382-439c-ce9c-08736df3c600"
      },
      "execution_count": 170,
      "outputs": [
        {
          "output_type": "stream",
          "name": "stdout",
          "text": [
            "tensor(295.6505, grad_fn=<DivBackward0>)\n"
          ]
        }
      ]
    },
    {
      "cell_type": "code",
      "source": [
        "print(preds)"
      ],
      "metadata": {
        "colab": {
          "base_uri": "https://localhost:8080/"
        },
        "id": "FrdWsXWh6kux",
        "outputId": "e1adc7b8-5e40-435b-d768-09c20f54f97c"
      },
      "execution_count": 171,
      "outputs": [
        {
          "output_type": "stream",
          "name": "stdout",
          "text": [
            "tensor([[37.5775, 26.3859],\n",
            "        [20.0938, 41.2171],\n",
            "        [53.5054, 14.1706],\n",
            "        [19.3336, 40.1277],\n",
            "        [18.4421, 45.1310]], grad_fn=<AddBackward0>)\n"
          ]
        }
      ]
    },
    {
      "cell_type": "code",
      "source": [
        "print(targets)"
      ],
      "metadata": {
        "colab": {
          "base_uri": "https://localhost:8080/"
        },
        "id": "nvryaPEq7gI4",
        "outputId": "519dd330-94ba-4e88-df41-574c2d9127a6"
      },
      "execution_count": 172,
      "outputs": [
        {
          "output_type": "stream",
          "name": "stdout",
          "text": [
            "tensor([[ 2.,  3.],\n",
            "        [35., 57.],\n",
            "        [76., 23.],\n",
            "        [24., 43.],\n",
            "        [12., 41.]])\n"
          ]
        }
      ]
    },
    {
      "cell_type": "code",
      "source": [
        "for i in range(10000):\n",
        "    preds=model(inputs)\n",
        "    loss=mse(preds,targets)\n",
        "    loss.backward()\n",
        "    with torch.no_grad():\n",
        "     w-=w.grad*1e-5\n",
        "     b-=b.grad*1e-3\n",
        "    w.grad.zero_()\n",
        "    b.grad.zero_()\n",
        "print(loss)"
      ],
      "metadata": {
        "colab": {
          "base_uri": "https://localhost:8080/"
        },
        "id": "bZRUhFcn7j84",
        "outputId": "093168db-f42e-49c4-a51c-5912339bc585"
      },
      "execution_count": 173,
      "outputs": [
        {
          "output_type": "stream",
          "name": "stdout",
          "text": [
            "tensor(295.3539, grad_fn=<DivBackward0>)\n"
          ]
        }
      ]
    },
    {
      "cell_type": "code",
      "source": [
        "for i in range(100000):\n",
        "    preds=model(inputs)\n",
        "    loss=mse(preds,targets)\n",
        "    loss.backward()\n",
        "    with torch.no_grad():\n",
        "     w-=w.grad*1e-5\n",
        "     b-=b.grad*1e-3\n",
        "    w.grad.zero_()\n",
        "    b.grad.zero_()\n",
        "print(loss)"
      ],
      "metadata": {
        "colab": {
          "base_uri": "https://localhost:8080/"
        },
        "id": "LiE9vJgG91qg",
        "outputId": "31fcd731-c530-41ba-b11e-d1bf0be13725"
      },
      "execution_count": 174,
      "outputs": [
        {
          "output_type": "stream",
          "name": "stdout",
          "text": [
            "tensor(293.1618, grad_fn=<DivBackward0>)\n"
          ]
        }
      ]
    },
    {
      "cell_type": "code",
      "source": [
        "print(targets)"
      ],
      "metadata": {
        "colab": {
          "base_uri": "https://localhost:8080/"
        },
        "id": "1X83GbCQ9-kQ",
        "outputId": "a1876fc2-5fba-4625-9547-9c1b7fbe99dd"
      },
      "execution_count": 175,
      "outputs": [
        {
          "output_type": "stream",
          "name": "stdout",
          "text": [
            "tensor([[ 2.,  3.],\n",
            "        [35., 57.],\n",
            "        [76., 23.],\n",
            "        [24., 43.],\n",
            "        [12., 41.]])\n"
          ]
        }
      ]
    },
    {
      "cell_type": "code",
      "source": [
        "print(preds)"
      ],
      "metadata": {
        "colab": {
          "base_uri": "https://localhost:8080/"
        },
        "id": "zj-w7Djx-H1c",
        "outputId": "cd44b408-189a-437f-8c1a-8fd9714f7b64"
      },
      "execution_count": 176,
      "outputs": [
        {
          "output_type": "stream",
          "name": "stdout",
          "text": [
            "tensor([[37.5761, 26.3923],\n",
            "        [19.0354, 42.0663],\n",
            "        [54.5750, 13.3200],\n",
            "        [19.3741, 40.0978],\n",
            "        [18.4107, 45.1498]], grad_fn=<AddBackward0>)\n"
          ]
        }
      ]
    },
    {
      "cell_type": "code",
      "source": [],
      "metadata": {
        "id": "DYJzFM1N-KUU"
      },
      "execution_count": null,
      "outputs": []
    }
  ]
}